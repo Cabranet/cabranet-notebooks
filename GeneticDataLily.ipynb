{
  "nbformat": 4,
  "nbformat_minor": 0,
  "metadata": {
    "colab": {
      "provenance": [],
      "mount_file_id": "1e18di4euKxlLZooGMAlyU84xlx98nuqa",
      "authorship_tag": "ABX9TyNcH4lnNlHG7FW4XuVcdFiC",
      "include_colab_link": true
    },
    "kernelspec": {
      "name": "python3",
      "display_name": "Python 3"
    },
    "language_info": {
      "name": "python"
    }
  },
  "cells": [
    {
      "cell_type": "markdown",
      "metadata": {
        "id": "view-in-github",
        "colab_type": "text"
      },
      "source": [
        "<a href=\"https://colab.research.google.com/github/Cabranet/cabranet-notebooks/blob/main/GeneticDataLily.ipynb\" target=\"_parent\"><img src=\"https://colab.research.google.com/assets/colab-badge.svg\" alt=\"Open In Colab\"/></a>"
      ]
    },
    {
      "cell_type": "markdown",
      "source": [
        "# Practicing making graphs using data from Lily's dissertation last year\n",
        "\n",
        "It took me a long time and lots of help from ChatGPT to work out that I needed to reset the index of grouped data I extracted from the raw CSV file.\n",
        "\n",
        "### As always I started by importing all the data analysis libraries.\n",
        "I import Pandas, Numpy, MatPlotLib and I've also been experimenting with Seaborn, so I've imported that too."
      ],
      "metadata": {
        "id": "uXFyWkDI3nQz"
      }
    },
    {
      "cell_type": "code",
      "execution_count": 13,
      "metadata": {
        "id": "QOGNcjx_3M5a"
      },
      "outputs": [],
      "source": [
        "# import libraries\n",
        "import pandas as pd\n",
        "import seaborn as sns\n",
        "import matplotlib.pyplot as plt\n",
        "import matplotlib.gridspec as gdspec\n",
        "import numpy as np"
      ]
    },
    {
      "cell_type": "markdown",
      "source": [
        "###Importing the data and creating data frames for the subplots\n",
        "After importing the data, I find it useful to to print out the data types and have a look at the data description."
      ],
      "metadata": {
        "id": "1kUa8uS_4w2a"
      }
    },
    {
      "cell_type": "code",
      "source": [
        "g_data = pd.read_csv('/content/sample_data/lily_results.csv')\n",
        "print(g_data.dtypes)\n",
        "print(g_data.describe())"
      ],
      "metadata": {
        "colab": {
          "base_uri": "https://localhost:8080/"
        },
        "id": "Usi6bbYy5FFy",
        "outputId": "878a4c4e-bf50-42af-f741-8334190d7322"
      },
      "execution_count": 14,
      "outputs": [
        {
          "output_type": "stream",
          "name": "stdout",
          "text": [
            "Well            object\n",
            "Sample Name     object\n",
            "Target Name     object\n",
            "CT             float64\n",
            "dtype: object\n",
            "              CT\n",
            "count  37.000000\n",
            "mean   30.225617\n",
            "std     4.711028\n",
            "min    23.702511\n",
            "25%    25.967415\n",
            "50%    32.373566\n",
            "75%    33.812901\n",
            "max    37.046570\n"
          ]
        }
      ]
    },
    {
      "cell_type": "code",
      "source": [
        "# Create filtered datasets\n",
        "ax1_data = g_data.groupby('Target Name')['CT'].mean().reset_index()\n",
        "ax2_data = g_data[g_data['Target Name'] == 'U6']\n",
        "ax3_data = g_data[g_data['Target Name'] == 'MMP14']\n",
        "ax4_data = g_data[g_data['Target Name'] == 'MMP13']\n",
        "ax5_data = g_data[g_data['Target Name'] == 'MMP17']\n",
        "\n",
        "print(ax1_data)"
      ],
      "metadata": {
        "colab": {
          "base_uri": "https://localhost:8080/"
        },
        "id": "P2Nef3ar59av",
        "outputId": "cc565a69-4094-4f98-833d-a39e9d95507b"
      },
      "execution_count": 15,
      "outputs": [
        {
          "output_type": "stream",
          "name": "stdout",
          "text": [
            "  Target Name         CT\n",
            "0       MMP10  32.967489\n",
            "1       MMP13  35.747783\n",
            "2       MMP14  27.073428\n",
            "3       MMP17  34.540355\n",
            "4        MMP9  26.263181\n",
            "5          U6  23.841104\n"
          ]
        }
      ]
    },
    {
      "cell_type": "markdown",
      "source": [
        "###Creating the subplots and plotting the bar charts"
      ],
      "metadata": {
        "id": "9dJo2v2jBod6"
      }
    },
    {
      "cell_type": "code",
      "source": [
        "fig = plt.figure()\n",
        "gs = gdspec.GridSpec(4, 2)\n",
        "\n",
        "# Create the subplots\n",
        "ax1 = plt.subplot(\n",
        "        gs[:2, :],\n",
        "        ylabel='Mean CT',\n",
        "        xlabel='Target Name',\n",
        "        ylim=[23, 36],\n",
        "        title='Mean CT Values by Target Name')\n",
        "\n",
        "ax2 = plt.subplot(\n",
        "        gs[2, 0],\n",
        "        ylabel='CT',\n",
        "        xlabel='Well',\n",
        "        ylim=[23.5, 24],\n",
        "        title='U6 CT Values by Well'\n",
        "        )\n",
        "ax3 = plt.subplot(\n",
        "        gs[2, 1],\n",
        "        ylabel='CT',\n",
        "        xlabel='Well',\n",
        "        ylim=[26, 28.5],\n",
        "        title='MMP14 CT Values by Well'\n",
        "        )\n",
        "ax4 = plt.subplot(\n",
        "        gs[3, 0],\n",
        "        ylabel='CT',\n",
        "        xlabel='Well',\n",
        "        ylim=[33, 37.5],\n",
        "        title='MMP17 CT Values by Well'\n",
        "        )\n",
        "ax5 = plt.subplot(\n",
        "        gs[3, 1],\n",
        "        ylabel='CT',\n",
        "        xlabel='Well',\n",
        "        ylim=[32, 38],\n",
        "        title='MMP13 CT Values by Well'\n",
        "        )\n",
        "\n",
        "# Create filtered datasets\n",
        "ax1_data = g_data.groupby('Target Name')['CT'].mean().reset_index()\n",
        "ax2_data = g_data[g_data['Target Name'] == 'U6']\n",
        "ax3_data = g_data[g_data['Target Name'] == 'MMP14']\n",
        "ax4_data = g_data[g_data['Target Name'] == 'MMP13']\n",
        "ax5_data = g_data[g_data['Target Name'] == 'MMP17']\n",
        "\n",
        "# Create the bar charts\n",
        "ax1.bar(\n",
        "        ax1_data['Target Name'],\n",
        "        ax1_data['CT'],\n",
        "        edgecolor='black')\n",
        "ax2.bar(\n",
        "        ax2_data['Well'],\n",
        "        ax2_data['CT'],\n",
        "        edgecolor='black')\n",
        "ax3.bar(\n",
        "        ax3_data['Well'],\n",
        "        ax3_data['CT'],\n",
        "        edgecolor='black')\n",
        "ax4.bar(\n",
        "        ax4_data['Well'],\n",
        "        ax4_data['CT'],\n",
        "        edgecolor='black')\n",
        "ax5.bar(\n",
        "        ax5_data['Well'],\n",
        "        ax5_data['CT'],\n",
        "        edgecolor='black')\n",
        "\n",
        "\n",
        "# Prevent the axes from overlapping\n",
        "fig.set_tight_layout(True)\n",
        "\n",
        "# Show plots\n",
        "plt.show()"
      ],
      "metadata": {
        "id": "b5VX9SbMBz9i",
        "colab": {
          "base_uri": "https://localhost:8080/",
          "height": 297
        },
        "outputId": "2fb9c3ea-c435-43ed-f9eb-02c0459222ae"
      },
      "execution_count": 16,
      "outputs": [
        {
          "output_type": "display_data",
          "data": {
            "text/plain": [
              "<Figure size 432x288 with 5 Axes>"
            ],
            "image/png": "[encoded data removed]"
          },
          "metadata": {
            "needs_background": "light"
          }
        }
      ]
    }
  ]
}