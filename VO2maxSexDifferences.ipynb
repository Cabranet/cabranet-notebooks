{
  "nbformat": 4,
  "nbformat_minor": 0,
  "metadata": {
    "colab": {
      "provenance": [],
      "authorship_tag": "ABX9TyMo8mOnU8RegqAkHMlXhSLM",
      "include_colab_link": true
    },
    "kernelspec": {
      "name": "python3",
      "display_name": "Python 3"
    },
    "language_info": {
      "name": "python"
    }
  },
  "cells": [
    {
      "cell_type": "markdown",
      "metadata": {
        "id": "view-in-github",
        "colab_type": "text"
      },
      "source": [
        "<a href=\"https://colab.research.google.com/github/Cabranet/cabranet-notebooks/blob/main/VO2maxSexDifferences.ipynb\" target=\"_parent\"><img src=\"https://colab.research.google.com/assets/colab-badge.svg\" alt=\"Open In Colab\"/></a>"
      ]
    },
    {
      "cell_type": "markdown",
      "source": [
        "\n",
        "# VO2max Differences between Male and Female Sports Science Students\n",
        "\n",
        "The following description is taken from one of my daughter Amaya's lab reports from her course at Liverpool John Moores University (LJMU)\n",
        "\n",
        "> **Study Design**\n",
        ">\n",
        "> The study used a cross sectional design and was a single visit, as the students were only required to attend the lab at Liverpool John Moores University on one occasion. They completed an incremental exercise test to exhaustion.\n",
        "\n",
        "The aim of this notebook is to see if I can use Python to produce similar or better data visualisations to the ones that Amaya produced for her lab report."
      ],
      "metadata": {
        "id": "H4kmr1L8Ab1n"
      }
    },
    {
      "cell_type": "code",
      "execution_count": null,
      "metadata": {
        "id": "wMoH84EMASTB"
      },
      "outputs": [],
      "source": []
    }
  ]
}