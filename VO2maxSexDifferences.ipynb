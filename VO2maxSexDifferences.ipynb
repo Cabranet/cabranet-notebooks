{
  "nbformat": 4,
  "nbformat_minor": 0,
  "metadata": {
    "colab": {
      "provenance": [],
      "mount_file_id": "14QhgXcGK40ppJxenTCp5jJ-j7A3EkwwM",
      "authorship_tag": "ABX9TyMw5SoyQfRRge+N8Ia7E3x4",
      "include_colab_link": true
    },
    "kernelspec": {
      "name": "python3",
      "display_name": "Python 3"
    },
    "language_info": {
      "name": "python"
    }
  },
  "cells": [
    {
      "cell_type": "markdown",
      "metadata": {
        "id": "view-in-github",
        "colab_type": "text"
      },
      "source": [
        "<a href=\"https://colab.research.google.com/github/Cabranet/cabranet-notebooks/blob/main/VO2maxSexDifferences.ipynb\" target=\"_parent\"><img src=\"https://colab.research.google.com/assets/colab-badge.svg\" alt=\"Open In Colab\"/></a>"
      ]
    },
    {
      "cell_type": "markdown",
      "source": [
        "\n",
        "# VO2max Differences between Male and Female Sports Science Students\n",
        "\n",
        "The following description is taken from one of my daughter Amaya's lab reports from her course at Liverpool John Moores University (LJMU)\n",
        "\n",
        "> **Study Design**\n",
        ">\n",
        "> The study used a cross sectional design and was a single visit, as the students were only required to attend the lab at Liverpool John Moores University on one occasion. They completed an incremental exercise test to exhaustion.\n",
        "\n",
        "The aim of this notebook is to see if I can use Python to produce similar or better data visualisations to the ones that Amaya produced for her lab report."
      ],
      "metadata": {
        "id": "H4kmr1L8Ab1n"
      }
    },
    {
      "cell_type": "code",
      "execution_count": 94,
      "metadata": {
        "id": "wMoH84EMASTB",
        "colab": {
          "base_uri": "https://localhost:8080/"
        },
        "outputId": "17822885-c7b3-45c5-a8ba-2d800f0c7851"
      },
      "outputs": [
        {
          "output_type": "stream",
          "name": "stdout",
          "text": [
            "(60, 6)\n",
            "            Age      Height      Weight    VO2lmin     VO2max\n",
            "count  30.000000   30.000000  30.000000  30.000000  30.000000\n",
            "mean   19.200000  176.536667  78.013333   3.480000  44.659000\n",
            "std     1.095445    7.611266   7.217447   0.298444   1.647509\n",
            "min    18.000000  160.400000  65.000000   3.000000  41.120000\n",
            "25%    18.250000  172.850000  74.250000   3.200000  43.555000\n",
            "50%    19.000000  177.300000  77.500000   3.525000  44.720000\n",
            "75%    20.000000  181.725000  81.000000   3.700000  45.665000\n",
            "max    23.000000  188.000000  94.200000   4.100000  48.050000\n",
            "            Age      Height      Weight    VO2lmin     VO2max\n",
            "count  30.000000   30.000000  30.000000  30.000000  30.000000\n",
            "mean   19.700000  163.236667  63.096667   2.428333  38.635000\n",
            "std     1.784029    8.246064   5.195123   0.376390   6.304098\n",
            "min    18.000000  151.600000  54.000000   2.000000  30.000000\n",
            "25%    19.000000  156.250000  59.150000   2.200000  35.327500\n",
            "50%    19.000000  162.500000  63.350000   2.325000  37.595000\n",
            "75%    20.000000  169.500000  66.750000   2.575000  39.520000\n",
            "max    25.000000  180.000000  73.000000   3.900000  65.000000\n"
          ]
        }
      ],
      "source": [
        "import pandas as pd\n",
        "import matplotlib.pyplot as plt\n",
        "import seaborn as sns\n",
        "\n",
        "# read the data from the CSV file\n",
        "vo2max_df = pd.read_csv('/content/drive/MyDrive/Colab Notebooks/data/VO2max Data.csv')\n",
        "vo2max_df['VO2max'] = (vo2max_df['VO2lmin'] / vo2max_df['Weight'] * 1000).round(2)\n",
        "# View the number of rows and columns\n",
        "print(vo2max_df.shape)\n",
        "\n",
        "vo2max_male = vo2max_df[vo2max_df['Sex'] == 'Male']\n",
        "vo2max_female = vo2max_df[vo2max_df['Sex'] == 'Female']\n",
        "print(vo2max_male.describe())\n",
        "print(vo2max_female.describe())"
      ]
    },
    {
      "cell_type": "markdown",
      "source": [],
      "metadata": {
        "id": "4VgoIlUJRMlL"
      }
    },
    {
      "cell_type": "code",
      "source": [
        "\n",
        "\n",
        "ax1 = (sns.regplot(data=vo2max_male, x='Weight', y='VO2lmin', scatter_kws={'s': 20}),\n",
        "       sns.regplot(data=vo2max_female, x='Weight', y='VO2lmin', scatter_kws={'s': 20}))\n",
        "\n",
        "\n",
        "plt.show()"
      ],
      "metadata": {
        "colab": {
          "base_uri": "https://localhost:8080/",
          "height": 279
        },
        "id": "wD-OBHOoRNQC",
        "outputId": "64f3b8e6-46ce-4bc1-84bf-e55292e3bc0d"
      },
      "execution_count": 95,
      "outputs": [
        {
          "output_type": "display_data",
          "data": {
            "text/plain": [
              "<Figure size 432x288 with 1 Axes>"
            ],
            "image/png": "[encoded data removed]"
          },
          "metadata": {
            "needs_background": "light"
          }
        }
      ]
    }
  ]
}